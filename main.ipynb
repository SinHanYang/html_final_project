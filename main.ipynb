{
 "cells": [
  {
   "cell_type": "code",
   "execution_count": 4,
   "metadata": {},
   "outputs": [],
   "source": [
    "import numpy as np\n",
    "import pandas as pd"
   ]
  },
  {
   "cell_type": "markdown",
   "metadata": {},
   "source": [
    "# Collect data"
   ]
  },
  {
   "cell_type": "code",
   "execution_count": 37,
   "metadata": {},
   "outputs": [
    {
     "name": "stdout",
     "output_type": "stream",
     "text": [
      "     Customer ID  Count Quarter Referred a Friend  Number of Referrals  \\\n",
      "0     1746-TGTWV    1.0      Q3                No                  0.0   \n",
      "1     8499-BRXTD    1.0      Q3               Yes                  1.0   \n",
      "2     5832-EXGTT    1.0      Q3               Yes                  1.0   \n",
      "3     8350-NYMVI    1.0      Q3               Yes                  1.0   \n",
      "4     7284-BUYEC    1.0     NaN                No                  0.0   \n",
      "...          ...    ...     ...               ...                  ...   \n",
      "6158  7609-NRNCA    1.0      Q3                No                  0.0   \n",
      "6159  4835-YSJMR    1.0     NaN               Yes                  1.0   \n",
      "6160  5067-DGXLL    NaN      Q3               Yes                  4.0   \n",
      "6161  3129-AAQOU    1.0      Q3               Yes                  1.0   \n",
      "6162  2205-LPVGL    1.0      Q3               NaN                  0.0   \n",
      "\n",
      "      Tenure in Months    Offer Phone Service  \\\n",
      "0                  1.0     None            No   \n",
      "1                  8.0  Offer E           NaN   \n",
      "2                 25.0  Offer C           NaN   \n",
      "3                 37.0  Offer C           Yes   \n",
      "4                 27.0  Offer C           Yes   \n",
      "...                ...      ...           ...   \n",
      "6158              72.0     None           Yes   \n",
      "6159              24.0      NaN           Yes   \n",
      "6160               NaN      NaN           NaN   \n",
      "6161              11.0      NaN            No   \n",
      "6162              66.0     None           Yes   \n",
      "\n",
      "      Avg Monthly Long Distance Charges Multiple Lines  ... Unlimited Data  \\\n",
      "0                                  0.00             No  ...             No   \n",
      "1                                 48.85            Yes  ...            Yes   \n",
      "2                                 19.76             No  ...            Yes   \n",
      "3                                  6.33            NaN  ...            Yes   \n",
      "4                                  3.33            Yes  ...             No   \n",
      "...                                 ...            ...  ...            ...   \n",
      "6158                              22.77            NaN  ...             No   \n",
      "6159                              36.05            Yes  ...            Yes   \n",
      "6160                              29.66            Yes  ...            NaN   \n",
      "6161                               0.00             No  ...            Yes   \n",
      "6162                              30.96            NaN  ...            Yes   \n",
      "\n",
      "            Contract  Paperless Billing   Payment Method Monthly Charge  \\\n",
      "0     Month-to-Month                Yes  Bank Withdrawal          39.65   \n",
      "1     Month-to-Month                Yes              NaN          80.65   \n",
      "2     Month-to-Month                Yes  Bank Withdrawal          98.50   \n",
      "3     Month-to-Month                Yes  Bank Withdrawal          76.50   \n",
      "4     Month-to-Month                Yes  Bank Withdrawal          78.05   \n",
      "...              ...                ...              ...            ...   \n",
      "6158        Two Year                NaN  Bank Withdrawal            NaN   \n",
      "6159        One Year                Yes     Mailed Check          84.80   \n",
      "6160             NaN                Yes      Credit Card         103.20   \n",
      "6161  Month-to-Month                Yes  Bank Withdrawal            NaN   \n",
      "6162        Two Year                Yes              NaN         105.65   \n",
      "\n",
      "     Total Charges Total Refunds Total Extra Data Charges  \\\n",
      "0              NaN          0.00                     20.0   \n",
      "1           633.30          0.00                      0.0   \n",
      "2          2514.50           NaN                      0.0   \n",
      "3          2868.15          0.00                      0.0   \n",
      "4          2135.50           NaN                     10.0   \n",
      "...            ...           ...                      ...   \n",
      "6158       1419.40         19.31                      NaN   \n",
      "6159       1990.50         48.23                      0.0   \n",
      "6160       7362.90         45.38                      0.0   \n",
      "6161        346.45         27.24                      0.0   \n",
      "6162       6844.50          0.00                      NaN   \n",
      "\n",
      "     Total Long Distance Charges Total Revenue  \n",
      "0                           0.00         59.65  \n",
      "1                         390.80       1024.10  \n",
      "2                         494.00       2995.07  \n",
      "3                         234.21       3102.36  \n",
      "4                          89.91       2235.41  \n",
      "...                          ...           ...  \n",
      "6158                     1639.44       3039.53  \n",
      "6159                      865.20       2807.47  \n",
      "6160                     2135.52       9453.04  \n",
      "6161                        0.00        319.21  \n",
      "6162                     2043.36       8887.86  \n",
      "\n",
      "[6163 rows x 30 columns]\n"
     ]
    }
   ],
   "source": [
    "# read services\n",
    "services=pd.read_csv('services.csv')\n",
    "print(services)\n",
    "#services.columns=['CustomerID','Churn Category']\n",
    "# read satisfaction\n",
    "satisfaction=pd.read_csv('satisfaction.csv')\n",
    "satisfaction.columns=['CustomerID','score']\n",
    "\n",
    "# read train status\n",
    "status=pd.read_csv('status.csv')\n",
    "status.columns=['CustomerID','Churn Category']\n",
    "#train_status\n"
   ]
  },
  {
   "cell_type": "markdown",
   "metadata": {},
   "source": [
    "# Train Model"
   ]
  },
  {
   "cell_type": "code",
   "execution_count": 6,
   "metadata": {},
   "outputs": [],
   "source": [
    "from sklearn.model_selection import train_test_split\n",
    "from sklearn.svm import SVC "
   ]
  }
 ],
 "metadata": {
  "interpreter": {
   "hash": "aee8b7b246df8f9039afb4144a1f6fd8d2ca17a180786b69acc140d282b71a49"
  },
  "kernelspec": {
   "display_name": "Python 3.9.7 64-bit",
   "language": "python",
   "name": "python3"
  },
  "language_info": {
   "codemirror_mode": {
    "name": "ipython",
    "version": 3
   },
   "file_extension": ".py",
   "mimetype": "text/x-python",
   "name": "python",
   "nbconvert_exporter": "python",
   "pygments_lexer": "ipython3",
   "version": "3.9.7"
  },
  "orig_nbformat": 4
 },
 "nbformat": 4,
 "nbformat_minor": 2
}
